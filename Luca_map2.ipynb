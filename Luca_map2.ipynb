{
 "cells": [
  {
   "cell_type": "code",
   "execution_count": 12,
   "id": "e62a5464-6eaf-411c-a5ae-2e3d44744b37",
   "metadata": {
    "ExecuteTime": {
     "end_time": "2023-12-18T11:56:23.136614Z",
     "start_time": "2023-12-18T11:56:23.127083Z"
    }
   },
   "outputs": [
    {
     "data": {
      "text/plain": "{'partei_id': 1,\n 'partei_bezeichnung': [{'langKey': 'de', 'text': 'FDP.Die Liberalen'},\n  {'langKey': 'fr', 'text': 'PLR.Les Libéraux'},\n  {'langKey': 'it', 'text': 'PLR.I Liberali Radicali'},\n  {'langKey': 'en', 'text': 'FDP.The Liberals'}],\n 'partei_bezeichnung_kurz': [{'langKey': 'de', 'text': 'FDP'},\n  {'langKey': 'fr', 'text': 'PLR'},\n  {'langKey': 'it', 'text': 'PLR'},\n  {'langKey': 'en', 'text': 'FDP'}],\n 'parteigruppen_id': 201,\n 'parteigruppen_bezeichnung': [{'langKey': 'de',\n   'text': 'FDP.Die Liberalen (inkl. LPS)'},\n  {'langKey': 'fr', 'text': 'PLR.Les Libéraux (y.c. PLS)'},\n  {'langKey': 'it', 'text': 'PLR.I Liberali Radicali (incl. PLS)'},\n  {'langKey': 'en', 'text': 'FDP.The Liberals (inc. LPS)'}],\n 'parteigruppen_bezeichnung_kurz': [{'langKey': 'de', 'text': 'FDP (LPS)'},\n  {'langKey': 'fr', 'text': 'PLR (PLS)'},\n  {'langKey': 'it', 'text': 'PLR (PLS)'},\n  {'langKey': 'en', 'text': 'FDP (LPS)'}],\n 'parteipolitische_lager_id': 303,\n 'parteipolitische_lager_bezeichnung': [{'langKey': 'de',\n   'text': 'Traditionelle bürgerliche und rechte Parteien (FDP, MItte, SVP, LPS, SD, EDU, FPS, Lega, MCR)'},\n  {'langKey': 'fr',\n   'text': 'Partis bourgeois traditionnels et de droite: PLR, Centre, UDC, PLS, DS, UDF, PSL, Lega, MCR'},\n  {'langKey': 'it',\n   'text': 'Partiti borghesi tradizionali e di destra (PLR, AdC, UDC, PLS, DS, UDF, PSL, Lega, MCR)'},\n  {'langKey': 'en',\n   'text': 'Traditional conservative and right-wing parties (FDP, Center, SVP, LPS, SD, EDU, FPS, Lega, MCR)'}],\n 'parteipolitische_lager_bezeichnung_kurz': [{'langKey': 'de',\n   'text': 'Traditionelle bürgerliche und rechte Parteien'},\n  {'langKey': 'fr', 'text': 'Partis bourgeois traditionnels et de droite'},\n  {'langKey': 'it', 'text': 'Partiti borghesi tradizionali e di destra'},\n  {'langKey': 'en',\n   'text': 'Traditional conservative and right-wing parties'}]}"
     },
     "execution_count": 12,
     "metadata": {},
     "output_type": "execute_result"
    }
   ],
   "source": [
    "# Python code to read the extracted party information from the new JSON file\n",
    "import json\n",
    "\n",
    "# Reading the JSON file containing the extracted party information\n",
    "extracted_file_path = 'election_data/extracted_parties.json'\n",
    "\n",
    "with open(extracted_file_path, 'r', encoding='utf-8') as file:\n",
    "    extracted_parties_data = json.load(file)\n",
    "\n",
    "# Example: Accessing the first party's information\n",
    "first_party = extracted_parties_data[0] if extracted_parties_data else None\n",
    "\n",
    "first_party\n"
   ]
  },
  {
   "cell_type": "code",
   "execution_count": 13,
   "id": "cc41e52e-10b9-4dfc-a876-eeb505b4760d",
   "metadata": {
    "ExecuteTime": {
     "end_time": "2023-12-18T11:56:23.161826Z",
     "start_time": "2023-12-18T11:56:23.135523Z"
    }
   },
   "outputs": [
    {
     "name": "stdout",
     "output_type": "stream",
     "text": [
      "{'partei_id': 3, 'partei_bezeichnung': [{'langKey': 'de', 'text': 'Sozialdemokratische Partei der Schweiz'}, {'langKey': 'fr', 'text': 'Parti socialiste suisse'}, {'langKey': 'it', 'text': 'Partito socialista svizzero'}, {'langKey': 'en', 'text': 'Social Democratic Party'}], 'partei_bezeichnung_kurz': [{'langKey': 'de', 'text': 'SP'}, {'langKey': 'fr', 'text': 'PS'}, {'langKey': 'it', 'text': 'PS'}, {'langKey': 'en', 'text': 'SP'}], 'parteigruppen_id': 203, 'parteigruppen_bezeichnung': [{'langKey': 'de', 'text': 'Sozialdemokratische Partei der Schweiz'}, {'langKey': 'fr', 'text': 'Parti socialiste suisse'}, {'langKey': 'it', 'text': 'Partito socialista svizzero'}, {'langKey': 'en', 'text': 'Social Democratic Party'}], 'parteigruppen_bezeichnung_kurz': [{'langKey': 'de', 'text': 'SP'}, {'langKey': 'fr', 'text': 'PS'}, {'langKey': 'it', 'text': 'PS'}, {'langKey': 'en', 'text': 'SP'}], 'parteipolitische_lager_id': 301, 'parteipolitische_lager_bezeichnung': [{'langKey': 'de', 'text': 'Linke und grüne Parteien (SP, PdA, Sol., POCH, FGA, GPS)'}, {'langKey': 'fr', 'text': 'Partis de gauche et verts: PS, PST, Sol., POCH, AVF, PES'}, {'langKey': 'it', 'text': 'Partiti di sinistra e verdi (PS, PdL, Sol., POCH, AVF, PES)'}, {'langKey': 'en', 'text': 'Left-wing and green parties (SP, PdA, Sol., POCH, FGA, GPS)'}], 'parteipolitische_lager_bezeichnung_kurz': [{'langKey': 'de', 'text': 'Linke und grüne Parteien'}, {'langKey': 'fr', 'text': 'Partis de gauche et verts'}, {'langKey': 'it', 'text': 'Partiti di sinistra e verdi'}, {'langKey': 'en', 'text': 'Left-wing and green parties'}]}\n"
     ]
    }
   ],
   "source": [
    "def get_party_by_id(party_data, party_id):\n",
    "    \"\"\"\n",
    "    Returns the party information for a given party ID.\n",
    "\n",
    "    :param party_data: List of dictionaries containing party information.\n",
    "    :param party_id: ID of the party to be retrieved.\n",
    "    :return: Dictionary containing the party information, or None if not found.\n",
    "    \"\"\"\n",
    "    for party in party_data:\n",
    "        if party.get('partei_id') == party_id:\n",
    "            return party\n",
    "    return None\n",
    "\n",
    "# Beispiel für die Verwendung\n",
    "party_id_to_find = 3  # Ersetzen Sie dies durch die gewünschte Partei-ID\n",
    "found_party = get_party_by_id(extracted_parties_data, party_id_to_find)\n",
    "\n",
    "print(found_party)\n"
   ]
  },
  {
   "cell_type": "code",
   "execution_count": 14,
   "id": "3376e5f4-8e76-4b9b-b96d-b1f963ffdb45",
   "metadata": {
    "ExecuteTime": {
     "end_time": "2023-12-18T11:56:23.162496Z",
     "start_time": "2023-12-18T11:56:23.141102Z"
    }
   },
   "outputs": [
    {
     "data": {
      "text/plain": "{1: 'FDP',\n 2: 'CVP',\n 3: 'SP',\n 4: 'SVP',\n 5: 'LPS',\n 6: 'LdU',\n 7: 'EVP',\n 8: 'CSP',\n 9: 'PdA/Sol.',\n 12: 'FGA',\n 13: 'GRÜNE',\n 14: 'SD',\n 16: 'EDU',\n 18: 'Lega',\n 31: 'GLP',\n 32: 'BDP',\n 33: 'MCR',\n 34: 'Mitte',\n 35: 'Übrige'}"
     },
     "execution_count": 14,
     "metadata": {},
     "output_type": "execute_result"
    }
   ],
   "source": [
    "def create_party_id_description_map(party_data):\n",
    "    \"\"\"\n",
    "    Creates a map of party IDs to their short descriptions.\n",
    "\n",
    "    :param party_data: List of dictionaries containing party information.\n",
    "    :return: Dictionary mapping party IDs to their short descriptions.\n",
    "    \"\"\"\n",
    "    id_description_map = {}\n",
    "    for party in party_data:\n",
    "        # Assuming the short description is in the field 'partei_bezeichnung_kurz' under 'de' langKey\n",
    "        short_description = next((desc['text'] for desc in party['partei_bezeichnung_kurz'] if desc['langKey'] == 'de'), 'Keine Beschreibung')\n",
    "        id_description_map[party['partei_id']] = short_description\n",
    "\n",
    "    return id_description_map\n",
    "\n",
    "# Create the map\n",
    "party_id_description_map = create_party_id_description_map(extracted_parties_data)\n",
    "\n",
    "party_id_description_map"
   ]
  },
  {
   "cell_type": "code",
   "execution_count": 15,
   "id": "163ef4f9-bf16-4a38-88a2-9f3e9b257f8a",
   "metadata": {
    "ExecuteTime": {
     "end_time": "2023-12-18T11:56:23.211485Z",
     "start_time": "2023-12-18T11:56:23.145959Z"
    }
   },
   "outputs": [
    {
     "name": "stdout",
     "output_type": "stream",
     "text": [
      "[{'gemeinde_nummer': 1, 'gemeinde_bezeichnung': 'Aeugst am Albis', 'kanton_nummer': 1, 'partei_id': 1, 'stimmen_partei': 3692, 'letzte_wahl_stimmen_partei': 4457, 'differenz_stimmen_partei': -765, 'partei_staerke': 12.733669035, 'letzte_wahl_partei_staerke': 16.421044875, 'differenz_partei_staerke': -3.68737584, 'partei_rang': 4, 'flag_staerkste_partei': 0}, {'gemeinde_nummer': 1, 'gemeinde_bezeichnung': 'Aeugst am Albis', 'kanton_nummer': 1, 'partei_id': 3, 'stimmen_partei': 3938, 'letzte_wahl_stimmen_partei': 3139, 'differenz_stimmen_partei': 799, 'partei_staerke': 13.582120439, 'letzte_wahl_partei_staerke': 11.565102056, 'differenz_partei_staerke': 2.0170183829, 'partei_rang': 3, 'flag_staerkste_partei': 0}, {'gemeinde_nummer': 1, 'gemeinde_bezeichnung': 'Aeugst am Albis', 'kanton_nummer': 1, 'partei_id': 4, 'stimmen_partei': 9928, 'letzte_wahl_stimmen_partei': 8246, 'differenz_stimmen_partei': 1682, 'partei_staerke': 34.241567221, 'letzte_wahl_partei_staerke': 30.380959399, 'differenz_partei_staerke': 3.8606078221, 'partei_rang': 1, 'flag_staerkste_partei': 1}, {'gemeinde_nummer': 1, 'gemeinde_bezeichnung': 'Aeugst am Albis', 'kanton_nummer': 1, 'partei_id': 7, 'stimmen_partei': 1115, 'letzte_wahl_stimmen_partei': 876, 'differenz_stimmen_partei': 239, 'partei_staerke': 3.845623232, 'letzte_wahl_partei_staerke': 3.227470341, 'differenz_partei_staerke': 0.6181528912, 'partei_rang': 8, 'flag_staerkste_partei': 0}, {'gemeinde_nummer': 1, 'gemeinde_bezeichnung': 'Aeugst am Albis', 'kanton_nummer': 1, 'partei_id': 9, 'stimmen_partei': 56, 'letzte_wahl_stimmen_partei': 44, 'differenz_stimmen_partei': 12, 'partei_staerke': 0.193143409, 'letzte_wahl_partei_staerke': 0.162110382, 'differenz_partei_staerke': 0.0310330265, 'partei_rang': 12, 'flag_staerkste_partei': 0}, {'gemeinde_nummer': 1, 'gemeinde_bezeichnung': 'Aeugst am Albis', 'kanton_nummer': 1, 'partei_id': 12, 'stimmen_partei': 77, 'letzte_wahl_stimmen_partei': 82, 'differenz_stimmen_partei': -5, 'partei_staerke': 0.265572187, 'letzte_wahl_partei_staerke': 0.302114804, 'differenz_partei_staerke': -0.036542616, 'partei_rang': 11, 'flag_staerkste_partei': 0}, {'gemeinde_nummer': 1, 'gemeinde_bezeichnung': 'Aeugst am Albis', 'kanton_nummer': 1, 'partei_id': 13, 'stimmen_partei': 2290, 'letzte_wahl_stimmen_partei': 4085, 'differenz_stimmen_partei': -1795, 'partei_staerke': 7.898185832, 'letzte_wahl_partei_staerke': 15.050475278, 'differenz_partei_staerke': -7.152289447, 'partei_rang': 5, 'flag_staerkste_partei': 0}, {'gemeinde_nummer': 1, 'gemeinde_bezeichnung': 'Aeugst am Albis', 'kanton_nummer': 1, 'partei_id': 14, 'stimmen_partei': 98, 'letzte_wahl_stimmen_partei': 106, 'differenz_stimmen_partei': -8, 'partei_staerke': 0.338000966, 'letzte_wahl_partei_staerke': 0.390538649, 'differenz_partei_staerke': -0.052537683, 'partei_rang': 10, 'flag_staerkste_partei': 0}, {'gemeinde_nummer': 1, 'gemeinde_bezeichnung': 'Aeugst am Albis', 'kanton_nummer': 1, 'partei_id': 16, 'stimmen_partei': 679, 'letzte_wahl_stimmen_partei': 931, 'differenz_stimmen_partei': -252, 'partei_staerke': 2.341863834, 'letzte_wahl_partei_staerke': 3.430108319, 'differenz_partei_staerke': -1.088244485, 'partei_rang': 9, 'flag_staerkste_partei': 0}, {'gemeinde_nummer': 1, 'gemeinde_bezeichnung': 'Aeugst am Albis', 'kanton_nummer': 1, 'partei_id': 31, 'stimmen_partei': 4206, 'letzte_wahl_stimmen_partei': 3886, 'differenz_stimmen_partei': 320, 'partei_staerke': 14.50644961, 'letzte_wahl_partei_staerke': 14.31729423, 'differenz_partei_staerke': 0.1891553799, 'partei_rang': 2, 'flag_staerkste_partei': 0}, {'gemeinde_nummer': 1, 'gemeinde_bezeichnung': 'Aeugst am Albis', 'kanton_nummer': 1, 'partei_id': 34, 'stimmen_partei': 1685, 'letzte_wahl_stimmen_partei': 1021, 'differenz_stimmen_partei': 664, 'partei_staerke': 5.811547217, 'letzte_wahl_partei_staerke': 3.761697738, 'differenz_partei_staerke': 2.0498494788, 'partei_rang': 6, 'flag_staerkste_partei': 0}, {'gemeinde_nummer': 1, 'gemeinde_bezeichnung': 'Aeugst am Albis', 'kanton_nummer': 1, 'partei_id': 35, 'stimmen_partei': 1230, 'letzte_wahl_stimmen_partei': 269, 'differenz_stimmen_partei': 961, 'partei_staerke': 4.242257019, 'letzte_wahl_partei_staerke': 0.991083929, 'differenz_partei_staerke': 3.2511730897, 'partei_rang': 7, 'flag_staerkste_partei': 0}, {'gemeinde_nummer': 2, 'gemeinde_bezeichnung': 'Affoltern am Albis', 'kanton_nummer': 1, 'partei_id': 1, 'stimmen_partei': 13224, 'letzte_wahl_stimmen_partei': 14078, 'differenz_stimmen_partei': -854, 'partei_staerke': 11.470205569, 'letzte_wahl_partei_staerke': 13.385437466, 'differenz_partei_staerke': -1.915231897, 'partei_rang': 4, 'flag_staerkste_partei': 0}, {'gemeinde_nummer': 2, 'gemeinde_bezeichnung': 'Affoltern am Albis', 'kanton_nummer': 1, 'partei_id': 3, 'stimmen_partei': 18135, 'letzte_wahl_stimmen_partei': 15403, 'differenz_stimmen_partei': 2732, 'partei_staerke': 15.729898517, 'letzte_wahl_partei_staerke': 14.645254531, 'differenz_partei_staerke': 1.0846439862, 'partei_rang': 2, 'flag_staerkste_partei': 0}, {'gemeinde_nummer': 2, 'gemeinde_bezeichnung': 'Affoltern am Albis', 'kanton_nummer': 1, 'partei_id': 4, 'stimmen_partei': 37117, 'letzte_wahl_stimmen_partei': 31875, 'differenz_stimmen_partei': 5242, 'partei_staerke': 32.194466129, 'letzte_wahl_partei_staerke': 30.306919961, 'differenz_partei_staerke': 1.8875461677, 'partei_rang': 1, 'flag_staerkste_partei': 1}, {'gemeinde_nummer': 2, 'gemeinde_bezeichnung': 'Affoltern am Albis', 'kanton_nummer': 1, 'partei_id': 7, 'stimmen_partei': 6944, 'letzte_wahl_stimmen_partei': 6961, 'differenz_stimmen_partei': -17, 'partei_staerke': 6.023072253, 'letzte_wahl_partei_staerke': 6.618555917, 'differenz_partei_staerke': -0.595483664, 'partei_rang': 7, 'flag_staerkste_partei': 0}, {'gemeinde_nummer': 2, 'gemeinde_bezeichnung': 'Affoltern am Albis', 'kanton_nummer': 1, 'partei_id': 9, 'stimmen_partei': 72, 'letzte_wahl_stimmen_partei': 209, 'differenz_stimmen_partei': -137, 'partei_staerke': 0.06245121, 'letzte_wahl_partei_staerke': 0.198718314, 'differenz_partei_staerke': -0.136267104, 'partei_rang': 12, 'flag_staerkste_partei': 0}, {'gemeinde_nummer': 2, 'gemeinde_bezeichnung': 'Affoltern am Albis', 'kanton_nummer': 1, 'partei_id': 12, 'stimmen_partei': 367, 'letzte_wahl_stimmen_partei': 414, 'differenz_stimmen_partei': -47, 'partei_staerke': 0.318327695, 'letzte_wahl_partei_staerke': 0.393633407, 'differenz_partei_staerke': -0.075305712, 'partei_rang': 10, 'flag_staerkste_partei': 0}, {'gemeinde_nummer': 2, 'gemeinde_bezeichnung': 'Affoltern am Albis', 'kanton_nummer': 1, 'partei_id': 13, 'stimmen_partei': 9327, 'letzte_wahl_stimmen_partei': 13242, 'differenz_stimmen_partei': -3915, 'partei_staerke': 8.090033828, 'letzte_wahl_partei_staerke': 12.590564208, 'differenz_partei_staerke': -4.50053038, 'partei_rang': 6, 'flag_staerkste_partei': 0}, {'gemeinde_nummer': 2, 'gemeinde_bezeichnung': 'Affoltern am Albis', 'kanton_nummer': 1, 'partei_id': 14, 'stimmen_partei': 218, 'letzte_wahl_stimmen_partei': 225, 'differenz_stimmen_partei': -7, 'partei_staerke': 0.189088386, 'letzte_wahl_partei_staerke': 0.2139312, 'differenz_partei_staerke': -0.024842814, 'partei_rang': 11, 'flag_staerkste_partei': 0}]\n"
     ]
    }
   ],
   "source": [
    "import json\n",
    "\n",
    "def extract_election_data(file_path):\n",
    "    \"\"\"\n",
    "    Extracts election data from a given JSON file.\n",
    "\n",
    "    :param file_path: Path to the JSON file containing election data.\n",
    "    :return: A list of dictionaries containing the extracted election data.\n",
    "    \"\"\"\n",
    "    with open(file_path, 'r', encoding='utf-8') as file:\n",
    "        data = json.load(file)\n",
    "    \n",
    "    # Assuming the election data is stored under the key 'level_gemeinden'\n",
    "    election_data_municipality_level = data.get('level_gemeinden', [])\n",
    "    return election_data_municipality_level\n",
    "\n",
    "# Beispiel für die Verwendung\n",
    "file_path = 'election_data/dataset_elections_bfs_municipalities_only.json'  # Ersetzen Sie dies durch den tatsächlichen Dateipfad\n",
    "election_data_municipality_level = extract_election_data(file_path)\n",
    "\n",
    "# Hier können Sie dann mit den extrahierten Daten arbeiten\n",
    "print(election_data_municipality_level[:20])  # Zeigt die ersten fünf Datensätze zur Überprüfung\n"
   ]
  },
  {
   "cell_type": "code",
   "execution_count": 16,
   "id": "42659da4-5345-4cd4-9e20-053d1f5812f4",
   "metadata": {
    "ExecuteTime": {
     "end_time": "2023-12-18T11:56:23.217394Z",
     "start_time": "2023-12-18T11:56:23.210706Z"
    }
   },
   "outputs": [
    {
     "name": "stdout",
     "output_type": "stream",
     "text": [
      "8100: 8646162\n",
      "ZH: 1552408\n",
      "000101: 56407\n",
      "0001: 1979\n",
      "0002: 12340\n",
      "0003: 5592\n",
      "0004: 3851\n",
      "0005: 3836\n",
      "0006: 1313\n",
      "0007: 2410\n",
      "0008: 642\n",
      "0009: 5600\n",
      "0010: 5761\n",
      "0011: 2847\n",
      "0012: 1147\n",
      "0013: 3845\n",
      "0014: 5244\n",
      "000102: 31849\n",
      "0021: 699\n",
      "0022: 842\n",
      "0023: 586\n",
      "0024: 1034\n",
      "0025: 1933\n",
      "0026: 707\n",
      "0027: 3718\n",
      "0028: 1453\n",
      "0029: 1499\n",
      "0030: 2200\n",
      "0031: 2234\n",
      "0032: 493\n"
     ]
    }
   ],
   "source": [
    "import pandas as pd\n",
    "\n",
    "# Path to the CSV file\n",
    "file_path = 'election_data/inhabitants_2022_index_value.csv'\n",
    "\n",
    "# Read the CSV file into a DataFrame\n",
    "data_df = pd.read_csv(file_path, delimiter=':', header=None)\n",
    "\n",
    "# Convert the DataFrame into a dictionary (map)\n",
    "inhabitants_map = data_df.set_index(0)[1].to_dict()\n",
    "\n",
    "# Example: Accessing the first few items from the map\n",
    "for key, value in list(inhabitants_map.items())[:30]:\n",
    "    print(f\"{key}: {value}\")\n"
   ]
  },
  {
   "cell_type": "code",
   "execution_count": 17,
   "id": "94b0b571-3762-499a-b143-67ff77e628be",
   "metadata": {
    "ExecuteTime": {
     "end_time": "2023-12-18T11:56:23.221806Z",
     "start_time": "2023-12-18T11:56:23.217881Z"
    }
   },
   "outputs": [],
   "source": [
    "def get_inhabitants_amount_voted(data_map, municipality_id, percentage):\n",
    "    \"\"\"\n",
    "    Aktualisiert den Wert für eine gegebene Gemeinde-ID in der Map basierend auf der angegebenen Prozentzahl.\n",
    "\n",
    "    :param data_map: Eine Map von Gemeinde-IDs zu ihren Werten.\n",
    "    :param gemeinde_id: Die ID der Gemeinde, deren Wert aktualisiert werden soll.\n",
    "    :param percentage: Die Prozentzahl, mit der der Wert aktualisiert werden soll.\n",
    "    :return: Aktualisierter Wert für die gegebene Gemeinde-ID, oder None, falls die ID nicht in der Map existiert.\n",
    "    \"\"\"\n",
    "    if municipality_id in data_map:\n",
    "        inhabitants_in_municipality = data_map[municipality_id]\n",
    "        percentage_voted = inhabitants_in_municipality * percentage\n",
    "        return percentage_voted\n",
    "    else:\n",
    "        return None\n"
   ]
  },
  {
   "cell_type": "code",
   "execution_count": 18,
   "id": "d4871926-827b-4c1f-8bea-7e6247d2474d",
   "metadata": {
    "ExecuteTime": {
     "end_time": "2023-12-18T11:56:23.222789Z",
     "start_time": "2023-12-18T11:56:23.220925Z"
    }
   },
   "outputs": [
    {
     "name": "stdout",
     "output_type": "stream",
     "text": [
      "Der aktualisierte Wert für die Gemeinde-ID '0011' ist: 711.75\n"
     ]
    }
   ],
   "source": [
    "percentage_voted = get_inhabitants_amount_voted(inhabitants_map, '0011', 0.25)\n",
    "\n",
    "if percentage_voted is not None:\n",
    "    print(f\"Der aktualisierte Wert für die Gemeinde-ID '0011' ist: {percentage_voted}\")\n",
    "else:\n",
    "    print(\"Gemeinde-ID nicht gefunden.\")"
   ]
  },
  {
   "cell_type": "code",
   "execution_count": 19,
   "id": "bbf1be8a-4667-43e1-8120-5d46d15e4e67",
   "metadata": {
    "ExecuteTime": {
     "end_time": "2023-12-18T11:56:23.340033Z",
     "start_time": "2023-12-18T11:56:23.228888Z"
    }
   },
   "outputs": [
    {
     "data": {
      "text/plain": "<Figure size 1000x1000 with 1 Axes>",
      "image/png": "[encoded data removed]"
     },
     "metadata": {},
     "output_type": "display_data"
    },
    {
     "name": "stdout",
     "output_type": "stream",
     "text": [
      "[1, 3, 4, 7, 9, 12, 13, 14, 16, 31, 34, 35, 8, 5, 18, 33]\n",
      "[14.317017067086072, 15.006441162234736, 33.92903464000471, 2.070435721132651, 1.5101238618308055, 0.3336818371428572, 8.133210680170535, 0.2750460582123081, 2.1284168688777108, 6.13588879502408, 15.816076831774811, 2.999515219305314, 2.069241061842519, 11.27193432375, 13.047533156773593, 11.231842709217391]\n",
      "['FDP', 'SP', 'SVP', 'EVP', 'PdA/Sol.', 'FGA', 'GRÜNE', 'SD', 'EDU', 'GLP', 'Mitte', 'Übrige', 'CSP', 'LPS', 'Lega', 'MCR']\n"
     ]
    }
   ],
   "source": [
    "import matplotlib.pyplot as plt\n",
    "from collections import defaultdict\n",
    "\n",
    "# Funktion zur Berechnung der durchschnittlichen Parteistärke\n",
    "def calculate_average_party_strength(election_data):\n",
    "    party_strengths = defaultdict(list)\n",
    "\n",
    "    for entry in election_data:\n",
    "        party_id = entry.get('partei_id')\n",
    "        party_strength = entry.get('partei_staerke')\n",
    "\n",
    "        if party_id is not None and party_strength is not None:\n",
    "            if isinstance(party_strength, str) and party_strength.endswith('%'):\n",
    "                party_strength = float(party_strength.strip('%')) / 100\n",
    "            elif isinstance(party_strength, str):\n",
    "                party_strength = float(party_strength)\n",
    "\n",
    "            party_strengths[party_id].append(party_strength)\n",
    "\n",
    "    average_strengths = {party: sum(strengths) / len(strengths) for party, strengths in party_strengths.items()}\n",
    "    return average_strengths\n",
    "\n",
    "\n",
    "# Durchschnitt berechnen\n",
    "average_strengths = calculate_average_party_strength(election_data_municipality_level)\n",
    "\n",
    "# Daten für das Balkendiagramm vorbereiten\n",
    "parties = list(average_strengths.keys())\n",
    "averages = list(average_strengths.values())\n",
    "party_names = list()\n",
    "for party in parties:\n",
    "    party_names.append(party_id_description_map[party])\n",
    "    \n",
    "\n",
    "# Balkendiagramm erstellen\n",
    "plt.figure(figsize=(10, 10))\n",
    "plt.bar(party_names, averages, width=2,) \n",
    "plt.xlabel('Partei ID')\n",
    "plt.ylabel('Durchschnittliche Partei Stärke')\n",
    "plt.title('Durchschnittliche Partei Stärken in Gemeinden')\n",
    "plt.show()\n",
    "\n",
    "print(parties)\n",
    "print(averages)\n",
    "print(party_names)"
   ]
  },
  {
   "cell_type": "code",
   "execution_count": 20,
   "id": "f55aaa44-1f4d-4fb1-8549-00dba58f121f",
   "metadata": {
    "ExecuteTime": {
     "end_time": "2023-12-18T11:56:23.455055Z",
     "start_time": "2023-12-18T11:56:23.348783Z"
    }
   },
   "outputs": [
    {
     "data": {
      "text/plain": "<Figure size 1000x1000 with 1 Axes>",
      "image/png": "[encoded data removed]"
     },
     "metadata": {},
     "output_type": "display_data"
    },
    {
     "name": "stdout",
     "output_type": "stream",
     "text": [
      "[1, 3, 4, 7, 9, 12, 13, 14, 16, 31, 34, 35, 8, 5, 18, 33]\n",
      "[15.006441162234736, 8.133210680170535, 6.13588879502408, 14.317017067086072, 15.816076831774811, 33.92903464000471]\n",
      "['SP', 'GRÜNE', 'GLP', 'FDP', 'Mitte', 'SVP']\n"
     ]
    }
   ],
   "source": [
    "import matplotlib.pyplot as plt\n",
    "from collections import defaultdict\n",
    "import numpy as np\n",
    "\n",
    "# Funktion zur Berechnung der durchschnittlichen Parteistärke\n",
    "def calculate_average_party_strength(election_data):\n",
    "    party_strengths = defaultdict(list)\n",
    "\n",
    "    for entry in election_data:\n",
    "        party_id = entry.get('partei_id')\n",
    "        party_strength = entry.get('partei_staerke')\n",
    "\n",
    "        if party_id is not None and party_strength is not None:\n",
    "            if isinstance(party_strength, str) and party_strength.endswith('%'):\n",
    "                party_strength = float(party_strength.strip('%')) / 100\n",
    "            elif isinstance(party_strength, str):\n",
    "                party_strength = float(party_strength)\n",
    "\n",
    "            party_strengths[party_id].append(party_strength)\n",
    "\n",
    "    average_strengths = {party: sum(strengths) / len(strengths) for party, strengths in party_strengths.items() if strengths}\n",
    "    return average_strengths\n",
    "\n",
    "# Durchschnitt berechnen\n",
    "average_strengths = calculate_average_party_strength(election_data_municipality_level)\n",
    "\n",
    "# Daten für das Balkendiagramm vorbereiten\n",
    "parties = list(average_strengths.keys())\n",
    "averages = list(average_strengths.values())\n",
    "party_names = [party_id_description_map[party] for party in parties]\n",
    "\n",
    "important_parties_keys = list()\n",
    "important_parties_values = list()\n",
    "list_of_important_parties = [\"SP\", \"GRÜNE\", \"GLP\", \"FDP\", \"Mitte\", \"SVP\"]\n",
    "\n",
    "for important_party in list_of_important_parties:\n",
    "    index_of_string = party_names.index(important_party)\n",
    "    important_parties_keys.append(important_party)\n",
    "    important_parties_values.append(averages[index_of_string])\n",
    "\n",
    "\n",
    "# Balkendiagramm erstellen\n",
    "plt.figure(figsize=(10, 10))\n",
    "x_positions = np.arange(len(important_parties_keys)) * 3 \n",
    "plt.bar(x_positions, important_parties_values, width=2) \n",
    "plt.xlabel('Partei ID')\n",
    "plt.ylabel('Durchschnittliche Partei Stärke')\n",
    "plt.title('Durchschnittliche Partei Stärken in Gemeinden')\n",
    "plt.xticks(x_positions, important_parties_keys, rotation=45)  \n",
    "plt.show()\n",
    "\n",
    "print(parties)\n",
    "print(important_parties_values)\n",
    "print(important_parties_keys)\n"
   ]
  },
  {
   "cell_type": "code",
   "execution_count": 21,
   "id": "d493f65e-37f0-4bf7-ad80-0b752a23dece",
   "metadata": {
    "ExecuteTime": {
     "end_time": "2023-12-18T11:56:23.456467Z",
     "start_time": "2023-12-18T11:56:23.442345Z"
    }
   },
   "outputs": [
    {
     "ename": "NameError",
     "evalue": "name 'population_map' is not defined",
     "output_type": "error",
     "traceback": [
      "\u001B[0;31m---------------------------------------------------------------------------\u001B[0m",
      "\u001B[0;31mNameError\u001B[0m                                 Traceback (most recent call last)",
      "Cell \u001B[0;32mIn[21], line 40\u001B[0m\n\u001B[1;32m     37\u001B[0m     \u001B[38;5;28;01mreturn\u001B[39;00m buckets\n\u001B[1;32m     39\u001B[0m \u001B[38;5;66;03m# Gesamteinwohnerzahl für jede Partei berechnen\u001B[39;00m\n\u001B[0;32m---> 40\u001B[0m total_population_by_party \u001B[38;5;241m=\u001B[39m calculate_total_population_by_party(election_data_municipality_level, population_map)\n\u001B[1;32m     42\u001B[0m \u001B[38;5;66;03m# Parteien in Buckets einteilen\u001B[39;00m\n\u001B[1;32m     43\u001B[0m party_buckets \u001B[38;5;241m=\u001B[39m categorize_parties_by_population(total_population_by_party)\n",
      "\u001B[0;31mNameError\u001B[0m: name 'population_map' is not defined"
     ]
    }
   ],
   "source": [
    "from collections import defaultdict\n",
    "\n",
    "\n",
    "def calculate_total_population_by_party():\n",
    "    total_population_by_party = defaultdict(float)\n",
    "\n",
    "    for entry in election_data_municipality_level:\n",
    "        party_id = entry.get('partei_id')\n",
    "        gemeinde_nummer = entry.get('gemeinde_nummer')\n",
    "        party_strength = float(entry.get('partei_staerke').strip('%')) / 100 if isinstance(entry.get('partei_staerke'), str) else entry.get('partei_staerke')\n",
    "        \n",
    "        gemeinde_nummer = gemeinde_nummer.zfill(4)\n",
    "        \n",
    "        if gemeinde_nummer in inhabitants_map:\n",
    "            total_population_by_party[party_id] += population_map[gemeinde_nummer] * party_strength\n",
    "\n",
    "    return total_population_by_party\n",
    "\n",
    "def categorize_parties_by_population(total_population_by_party):\n",
    "    buckets = {\n",
    "        '>75’000': [],\n",
    "        '30’000-75’000': [],\n",
    "        '10’000-30’000': [],\n",
    "        '0-10’000': []\n",
    "    }\n",
    "\n",
    "    for party, population in total_population_by_party.items():\n",
    "        if population > 75000:\n",
    "            buckets['>75’000'].append(party)\n",
    "        elif population > 30000:\n",
    "            buckets['30’000-75’000'].append(party)\n",
    "        elif population > 10000:\n",
    "            buckets['10’000-30’000'].append(party)\n",
    "        else:\n",
    "            buckets['0-10’000'].append(party)\n",
    "\n",
    "    return buckets\n",
    "\n",
    "# Gesamteinwohnerzahl für jede Partei berechnen\n",
    "total_population_by_party = calculate_total_population_by_party(election_data_municipality_level, population_map)\n",
    "\n",
    "# Parteien in Buckets einteilen\n",
    "party_buckets = categorize_parties_by_population(total_population_by_party)\n",
    "\n",
    "# Ergebnisse ausgeben\n",
    "for bucket, parties in party_buckets.items():\n",
    "    print(f\"{bucket}: {parties}\")\n"
   ]
  }
 ],
 "metadata": {
  "kernelspec": {
   "display_name": "Python 3 (ipykernel)",
   "language": "python",
   "name": "python3"
  },
  "language_info": {
   "codemirror_mode": {
    "name": "ipython",
    "version": 3
   },
   "file_extension": ".py",
   "mimetype": "text/x-python",
   "name": "python",
   "nbconvert_exporter": "python",
   "pygments_lexer": "ipython3",
   "version": "3.10.7"
  }
 },
 "nbformat": 4,
 "nbformat_minor": 5
}
